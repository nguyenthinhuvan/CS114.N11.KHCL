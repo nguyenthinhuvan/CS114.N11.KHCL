{
  "nbformat": 4,
  "nbformat_minor": 0,
  "metadata": {
    "colab": {
      "provenance": []
    },
    "kernelspec": {
      "name": "python3",
      "display_name": "Python 3"
    },
    "language_info": {
      "name": "python"
    }
  },
  "cells": [
    {
      "cell_type": "markdown",
      "source": [
        "# Thông tin sinh viên\n",
        "- Phạm Bùi Nhật Huy (20521410)\n",
        "- Nguyễn Thị Như Vân (20520855)\n",
        "- Nguyễn Văn Hoàng (20521346)"
      ],
      "metadata": {
        "id": "x3TZxpTX28l2"
      }
    },
    {
      "cell_type": "markdown",
      "source": [
        "#Import lib"
      ],
      "metadata": {
        "id": "8YAS2h5P375z"
      }
    },
    {
      "cell_type": "code",
      "source": [
        "import pandas as pd\n",
        "import numpy as np\n",
        "from sklearn.linear_model import LinearRegression\n",
        "import matplotlib.pyplot as plt\n",
        "from sklearn.metrics import mean_squared_error"
      ],
      "metadata": {
        "id": "cj7ITlmS39t0"
      },
      "execution_count": null,
      "outputs": []
    },
    {
      "cell_type": "markdown",
      "source": [
        "# Get data"
      ],
      "metadata": {
        "id": "mxixQMmk3GBX"
      }
    },
    {
      "cell_type": "code",
      "execution_count": null,
      "metadata": {
        "id": "HYWn4BNL2Qox",
        "outputId": "61beac50-d2ba-418c-ccdc-1ccaa9f773f3",
        "colab": {
          "base_uri": "https://localhost:8080/"
        }
      },
      "outputs": [
        {
          "output_type": "stream",
          "name": "stdout",
          "text": [
            "--2022-10-26 02:00:33--  http://cs.uit.edu.vn/data2.txt\n",
            "Resolving cs.uit.edu.vn (cs.uit.edu.vn)... 45.122.249.78, 118.69.123.142\n",
            "Connecting to cs.uit.edu.vn (cs.uit.edu.vn)|45.122.249.78|:80... connected.\n",
            "HTTP request sent, awaiting response... 200 OK\n",
            "Length: 1203726 (1.1M) [text/plain]\n",
            "Saving to: ‘/content/data2.txt.2’\n",
            "\n",
            "data2.txt.2         100%[===================>]   1.15M   835KB/s    in 1.4s    \n",
            "\n",
            "2022-10-26 02:00:35 (835 KB/s) - ‘/content/data2.txt.2’ saved [1203726/1203726]\n",
            "\n",
            "--2022-10-26 02:00:35--  http://cs.uit.edu.vn/data3.txt\n",
            "Resolving cs.uit.edu.vn (cs.uit.edu.vn)... 45.122.249.78, 118.69.123.142\n",
            "Connecting to cs.uit.edu.vn (cs.uit.edu.vn)|45.122.249.78|:80... connected.\n",
            "HTTP request sent, awaiting response... 200 OK\n",
            "Length: 178891 (175K) [text/plain]\n",
            "Saving to: ‘/content/data3.txt.2’\n",
            "\n",
            "data3.txt.2         100%[===================>] 174.70K   254KB/s    in 0.7s    \n",
            "\n",
            "2022-10-26 02:00:36 (254 KB/s) - ‘/content/data3.txt.2’ saved [178891/178891]\n",
            "\n",
            "--2022-10-26 02:00:37--  http://cs.uit.edu.vn/data4.txt\n",
            "Resolving cs.uit.edu.vn (cs.uit.edu.vn)... 45.122.249.78, 118.69.123.142\n",
            "Connecting to cs.uit.edu.vn (cs.uit.edu.vn)|45.122.249.78|:80... connected.\n",
            "HTTP request sent, awaiting response... 200 OK\n",
            "Length: 101704 (99K) [text/plain]\n",
            "Saving to: ‘/content/data4.txt.2’\n",
            "\n",
            "data4.txt.2         100%[===================>]  99.32K   141KB/s    in 0.7s    \n",
            "\n",
            "2022-10-26 02:00:38 (141 KB/s) - ‘/content/data4.txt.2’ saved [101704/101704]\n",
            "\n"
          ]
        }
      ],
      "source": [
        "!wget -P /content cs.uit.edu.vn/data2.txt\n",
        "!wget -P /content cs.uit.edu.vn/data3.txt \n",
        "!wget -P /content cs.uit.edu.vn/data4.txt "
      ]
    },
    {
      "cell_type": "markdown",
      "source": [
        "# Preprocess data"
      ],
      "metadata": {
        "id": "38XsMsy_5MIQ"
      }
    },
    {
      "cell_type": "code",
      "source": [
        "Trainingset = pd.read_csv('/content/data2.txt', sep=',')\n",
        "Testingset = []\n",
        "Testingset.append(pd.read_csv('/content/data3.txt', sep=','))\n",
        "Testingset.append(pd.read_csv('/content/data4.txt', sep=','))"
      ],
      "metadata": {
        "id": "Lilp8XpZ40D0"
      },
      "execution_count": null,
      "outputs": []
    },
    {
      "cell_type": "code",
      "source": [
        "x_train, y_train = Trainingset.iloc[:, 0:1].values, Trainingset.iloc[:, 1]"
      ],
      "metadata": {
        "id": "nuoJfVhu6YZS"
      },
      "execution_count": null,
      "outputs": []
    },
    {
      "cell_type": "code",
      "source": [
        "x_test, y_test = [], []\n",
        "for i in Testingset:\n",
        "  x_test.append(i.iloc[:, 0:1].values)\n",
        "  y_test.append(i.iloc[:, 1])"
      ],
      "metadata": {
        "id": "ALSjTjLj6hnq"
      },
      "execution_count": null,
      "outputs": []
    },
    {
      "cell_type": "markdown",
      "source": [
        "# LR"
      ],
      "metadata": {
        "id": "nTFN9KI3_KCm"
      }
    },
    {
      "cell_type": "code",
      "source": [
        "LR = LinearRegression()\n",
        "LR.fit(x_train, y_train)\n",
        "pred = []\n",
        "\n",
        "for i in x_test:\n",
        "  pred.append(LR.predict(i))"
      ],
      "metadata": {
        "id": "da3r3FKR7TII"
      },
      "execution_count": null,
      "outputs": []
    },
    {
      "cell_type": "markdown",
      "source": [
        "# MSE"
      ],
      "metadata": {
        "id": "QqYk5BiEAitC"
      }
    },
    {
      "cell_type": "code",
      "source": [
        "print('MSE_Test1:', mean_squared_error(y_test[0], pred[0]))\n",
        "print('MSE_Test2:', mean_squared_error(y_test[1], pred[1]))"
      ],
      "metadata": {
        "colab": {
          "base_uri": "https://localhost:8080/"
        },
        "id": "NNYe6LjS_e7V",
        "outputId": "77edd768-97bb-459c-ecd1-f1c276a0244c"
      },
      "execution_count": null,
      "outputs": [
        {
          "output_type": "stream",
          "name": "stdout",
          "text": [
            "MSE_Test1: 0.020584154890083483\n",
            "MSE_Test2: 0.223246116422088\n"
          ]
        }
      ]
    },
    {
      "cell_type": "markdown",
      "source": [
        "# Visualize"
      ],
      "metadata": {
        "id": "QtEM2aKj_Mx7"
      }
    },
    {
      "cell_type": "code",
      "source": [
        "for i, j in zip(x_test, pred):\n",
        "  plt.scatter(x_train, y_train, color='blue')\n",
        "  plt.plot(i, j, color='red')\n",
        "  plt.show()"
      ],
      "metadata": {
        "id": "-yy-PYBC84H3",
        "colab": {
          "base_uri": "https://localhost:8080/",
          "height": 541
        },
        "outputId": "76f9e84b-d839-423a-9434-a484afb97efc"
      },
      "execution_count": null,
      "outputs": [
        {
          "output_type": "display_data",
          "data": {
            "text/plain": [
              "<Figure size 432x288 with 1 Axes>"
            ],
            "image/png": "[encoded data removed]"
          },
          "metadata": {
            "needs_background": "light"
          }
        },
        {
          "output_type": "display_data",
          "data": {
            "text/plain": [
              "<Figure size 432x288 with 1 Axes>"
            ],
            "image/png": "[encoded data removed]"
          },
          "metadata": {
            "needs_background": "light"
          }
        }
      ]
    }
  ]
}